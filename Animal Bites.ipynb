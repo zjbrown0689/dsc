{
 "cells": [
  {
   "cell_type": "code",
   "execution_count": 1,
   "id": "926268a3",
   "metadata": {},
   "outputs": [],
   "source": [
    "import numpy as np\n",
    "import pandas as pd\n",
    "import matplotlib.pyplot as plt\n",
    "import seaborn as sns\n",
    "import os"
   ]
  },
  {
   "cell_type": "code",
   "execution_count": 2,
   "id": "cbc71939",
   "metadata": {},
   "outputs": [
    {
     "name": "stdout",
     "output_type": "stream",
     "text": [
      "C:\\Users\\Zachary Brown\\Documents\\GitHub\\dsc\n",
      "C:\\Users\\Zachary Brown\\Downloads\n"
     ]
    }
   ],
   "source": [
    "print(os.getcwd())\n",
    "os.chdir(r\"..\\..\\..\\Downloads\")\n",
    "print(os.getcwd())"
   ]
  },
  {
   "cell_type": "code",
   "execution_count": 3,
   "id": "45b06f56",
   "metadata": {},
   "outputs": [
    {
     "data": {
      "text/html": [
       "<div>\n",
       "<style scoped>\n",
       "    .dataframe tbody tr th:only-of-type {\n",
       "        vertical-align: middle;\n",
       "    }\n",
       "\n",
       "    .dataframe tbody tr th {\n",
       "        vertical-align: top;\n",
       "    }\n",
       "\n",
       "    .dataframe thead th {\n",
       "        text-align: right;\n",
       "    }\n",
       "</style>\n",
       "<table border=\"1\" class=\"dataframe\">\n",
       "  <thead>\n",
       "    <tr style=\"text-align: right;\">\n",
       "      <th></th>\n",
       "      <th>bite_date</th>\n",
       "      <th>SpeciesIDDesc</th>\n",
       "      <th>BreedIDDesc</th>\n",
       "      <th>GenderIDDesc</th>\n",
       "      <th>color</th>\n",
       "      <th>vaccination_yrs</th>\n",
       "      <th>vaccination_date</th>\n",
       "      <th>victim_zip</th>\n",
       "      <th>AdvIssuedYNDesc</th>\n",
       "      <th>WhereBittenIDDesc</th>\n",
       "      <th>quarantine_date</th>\n",
       "      <th>DispositionIDDesc</th>\n",
       "      <th>head_sent_date</th>\n",
       "      <th>release_date</th>\n",
       "      <th>ResultsIDDesc</th>\n",
       "    </tr>\n",
       "  </thead>\n",
       "  <tbody>\n",
       "    <tr>\n",
       "      <th>0</th>\n",
       "      <td>1985-05-05 00:00:00</td>\n",
       "      <td>DOG</td>\n",
       "      <td>NaN</td>\n",
       "      <td>FEMALE</td>\n",
       "      <td>LIG. BROWN</td>\n",
       "      <td>1.0</td>\n",
       "      <td>1985-06-20 00:00:00</td>\n",
       "      <td>40229</td>\n",
       "      <td>NO</td>\n",
       "      <td>BODY</td>\n",
       "      <td>1985-05-05 00:00:00</td>\n",
       "      <td>UNKNOWN</td>\n",
       "      <td>NaN</td>\n",
       "      <td>NaN</td>\n",
       "      <td>UNKNOWN</td>\n",
       "    </tr>\n",
       "    <tr>\n",
       "      <th>1</th>\n",
       "      <td>1986-02-12 00:00:00</td>\n",
       "      <td>DOG</td>\n",
       "      <td>NaN</td>\n",
       "      <td>UNKNOWN</td>\n",
       "      <td>BRO &amp; BLA</td>\n",
       "      <td>NaN</td>\n",
       "      <td>NaN</td>\n",
       "      <td>40218</td>\n",
       "      <td>NO</td>\n",
       "      <td>BODY</td>\n",
       "      <td>1986-02-12 00:00:00</td>\n",
       "      <td>UNKNOWN</td>\n",
       "      <td>NaN</td>\n",
       "      <td>NaN</td>\n",
       "      <td>UNKNOWN</td>\n",
       "    </tr>\n",
       "    <tr>\n",
       "      <th>2</th>\n",
       "      <td>1987-05-07 00:00:00</td>\n",
       "      <td>DOG</td>\n",
       "      <td>NaN</td>\n",
       "      <td>UNKNOWN</td>\n",
       "      <td>NaN</td>\n",
       "      <td>NaN</td>\n",
       "      <td>NaN</td>\n",
       "      <td>40219</td>\n",
       "      <td>NO</td>\n",
       "      <td>BODY</td>\n",
       "      <td>1990-05-07 00:00:00</td>\n",
       "      <td>UNKNOWN</td>\n",
       "      <td>NaN</td>\n",
       "      <td>NaN</td>\n",
       "      <td>UNKNOWN</td>\n",
       "    </tr>\n",
       "    <tr>\n",
       "      <th>3</th>\n",
       "      <td>1988-10-02 00:00:00</td>\n",
       "      <td>DOG</td>\n",
       "      <td>NaN</td>\n",
       "      <td>MALE</td>\n",
       "      <td>BLA &amp; BRO</td>\n",
       "      <td>NaN</td>\n",
       "      <td>NaN</td>\n",
       "      <td>NaN</td>\n",
       "      <td>NO</td>\n",
       "      <td>BODY</td>\n",
       "      <td>1990-10-02 00:00:00</td>\n",
       "      <td>UNKNOWN</td>\n",
       "      <td>NaN</td>\n",
       "      <td>NaN</td>\n",
       "      <td>UNKNOWN</td>\n",
       "    </tr>\n",
       "    <tr>\n",
       "      <th>4</th>\n",
       "      <td>1989-08-29 00:00:00</td>\n",
       "      <td>DOG</td>\n",
       "      <td>NaN</td>\n",
       "      <td>FEMALE</td>\n",
       "      <td>BLK-WHT</td>\n",
       "      <td>NaN</td>\n",
       "      <td>NaN</td>\n",
       "      <td>NaN</td>\n",
       "      <td>NO</td>\n",
       "      <td>BODY</td>\n",
       "      <td>NaN</td>\n",
       "      <td>UNKNOWN</td>\n",
       "      <td>NaN</td>\n",
       "      <td>NaN</td>\n",
       "      <td>UNKNOWN</td>\n",
       "    </tr>\n",
       "  </tbody>\n",
       "</table>\n",
       "</div>"
      ],
      "text/plain": [
       "             bite_date SpeciesIDDesc BreedIDDesc GenderIDDesc       color  \\\n",
       "0  1985-05-05 00:00:00           DOG         NaN       FEMALE  LIG. BROWN   \n",
       "1  1986-02-12 00:00:00           DOG         NaN      UNKNOWN   BRO & BLA   \n",
       "2  1987-05-07 00:00:00           DOG         NaN      UNKNOWN         NaN   \n",
       "3  1988-10-02 00:00:00           DOG         NaN         MALE   BLA & BRO   \n",
       "4  1989-08-29 00:00:00           DOG         NaN       FEMALE     BLK-WHT   \n",
       "\n",
       "   vaccination_yrs     vaccination_date victim_zip AdvIssuedYNDesc  \\\n",
       "0              1.0  1985-06-20 00:00:00      40229              NO   \n",
       "1              NaN                  NaN      40218              NO   \n",
       "2              NaN                  NaN      40219              NO   \n",
       "3              NaN                  NaN        NaN              NO   \n",
       "4              NaN                  NaN        NaN              NO   \n",
       "\n",
       "  WhereBittenIDDesc      quarantine_date DispositionIDDesc head_sent_date  \\\n",
       "0              BODY  1985-05-05 00:00:00           UNKNOWN            NaN   \n",
       "1              BODY  1986-02-12 00:00:00           UNKNOWN            NaN   \n",
       "2              BODY  1990-05-07 00:00:00           UNKNOWN            NaN   \n",
       "3              BODY  1990-10-02 00:00:00           UNKNOWN            NaN   \n",
       "4              BODY                  NaN           UNKNOWN            NaN   \n",
       "\n",
       "  release_date ResultsIDDesc  \n",
       "0          NaN       UNKNOWN  \n",
       "1          NaN       UNKNOWN  \n",
       "2          NaN       UNKNOWN  \n",
       "3          NaN       UNKNOWN  \n",
       "4          NaN       UNKNOWN  "
      ]
     },
     "execution_count": 3,
     "metadata": {},
     "output_type": "execute_result"
    }
   ],
   "source": [
    "data = pd.read_csv('Health_AnimalBites.csv')\n",
    "data.head()"
   ]
  },
  {
   "cell_type": "code",
   "execution_count": 34,
   "id": "635eb7eb",
   "metadata": {},
   "outputs": [
    {
     "name": "stdout",
     "output_type": "stream",
     "text": [
      "2017-08-15    13\n",
      "2014-04-26    12\n",
      "2015-03-17    12\n",
      "2010-04-01    12\n",
      "2017-07-04    11\n",
      "              ..\n",
      "2014-12-14     1\n",
      "2014-12-29     1\n",
      "2015-01-03     1\n",
      "2010-12-01     1\n",
      "1985-05-05     1\n",
      "Name: bite_date, Length: 2697, dtype: int64\n",
      "DOG        6929\n",
      "CAT        1533\n",
      "BAT          76\n",
      "RACCOON      21\n",
      "OTHER         8\n",
      "HORSE         5\n",
      "FERRET        4\n",
      "RABBIT        3\n",
      "SKUNK         1\n",
      "Name: SpeciesIDDesc, dtype: int64\n",
      "PIT BULL           1081\n",
      "GERM SHEPHERD       323\n",
      "LABRADOR RETRIV     248\n",
      "BOXER               181\n",
      "CHICHAUHUA          164\n",
      "                   ... \n",
      "BESINJI               1\n",
      "BEARDED COLLIE        1\n",
      "STAN POODLE           1\n",
      "AMER FOX HOUND        1\n",
      "IRISH WOLFHOUND       1\n",
      "Name: BreedIDDesc, Length: 101, dtype: int64\n",
      "MALE       3792\n",
      "FEMALE     1992\n",
      "UNKNOWN     620\n",
      "Name: GenderIDDesc, dtype: int64\n",
      "BLACK         663\n",
      "BROWN         426\n",
      "WHITE         389\n",
      "BLK WHT       273\n",
      "TAN           220\n",
      "             ... \n",
      "WHT/SABLE       1\n",
      "WH/BLACK        1\n",
      "BL/WH/BROW      1\n",
      "ORG/WHITE       1\n",
      "BRONW           1\n",
      "Name: color, Length: 705, dtype: int64\n",
      "1.0     2863\n",
      "3.0      828\n",
      "2.0        6\n",
      "11.0       1\n",
      "Name: vaccination_yrs, dtype: int64\n",
      "2014-08-02    7\n",
      "2015-10-01    7\n",
      "2012-05-14    7\n",
      "2013-05-08    7\n",
      "2013-04-01    7\n",
      "             ..\n",
      "2012-05-03    1\n",
      "2012-08-31    1\n",
      "2012-10-21    1\n",
      "2012-12-04    1\n",
      "2017-08-18    1\n",
      "Name: vaccination_date, Length: 2097, dtype: int64\n",
      "40272    372\n",
      "40291    355\n",
      "40216    354\n",
      "40215    343\n",
      "40214    336\n",
      "        ... \n",
      "47138      1\n",
      "40017      1\n",
      "42754      1\n",
      "41018      1\n",
      "32259      1\n",
      "Name: victim_zip, Length: 226, dtype: int64\n",
      "NO     1897\n",
      "YES     637\n",
      "Name: AdvIssuedYNDesc, dtype: int64\n",
      "BODY       6191\n",
      "HEAD       1236\n",
      "UNKNOWN     926\n",
      "Name: WhereBittenIDDesc, dtype: int64\n",
      "2010-04-05    18\n",
      "2010-11-08    14\n",
      "2011-06-01    13\n",
      "2010-02-01    13\n",
      "2011-06-27    13\n",
      "              ..\n",
      "1986-02-12     1\n",
      "2010-12-10     1\n",
      "2010-11-28     1\n",
      "2010-11-21     1\n",
      "2010-12-04     1\n",
      "Name: quarantine_date, Length: 600, dtype: int64\n",
      "RELEASED    908\n",
      "UNKNOWN     603\n",
      "KILLED       16\n",
      "DIED          3\n",
      "Name: DispositionIDDesc, dtype: int64\n",
      "2010-05-21    4\n",
      "2010-07-12    3\n",
      "2015-06-02    3\n",
      "2016-06-26    2\n",
      "2016-06-15    2\n",
      "             ..\n",
      "2011-11-18    1\n",
      "2011-11-30    1\n",
      "2011-12-09    1\n",
      "2012-01-23    1\n",
      "2017-09-05    1\n",
      "Name: head_sent_date, Length: 200, dtype: int64\n",
      "2017-09-05 00:00:00    12\n",
      "2016-07-05 00:00:00    12\n",
      "2016-04-04 00:00:00    11\n",
      "2017-05-08 00:00:00     9\n",
      "2016-05-23 00:00:00     9\n",
      "                       ..\n",
      "2015-12-14 00:00:00     1\n",
      "2015-12-16 00:00:00     1\n",
      "2015-12-07 00:00:00     1\n",
      "2015-12-09 00:00:00     1\n",
      "2017-09-06 00:00:00     1\n",
      "Name: release_date, Length: 578, dtype: int64\n",
      "UNKNOWN     1235\n",
      "NEGATIVE     131\n",
      "POSITIVE       2\n",
      "Name: ResultsIDDesc, dtype: int64\n",
      "0 days       108\n",
      "1 days        45\n",
      "2 days        25\n",
      "3 days         9\n",
      "4 days         7\n",
      "5 days         7\n",
      "7 days         6\n",
      "6 days         4\n",
      "10 days        3\n",
      "9 days         2\n",
      "-2 days        1\n",
      "-4 days        1\n",
      "1096 days      1\n",
      "369 days       1\n",
      "-5 days        1\n",
      "Name: bite_to_test, dtype: int64\n"
     ]
    }
   ],
   "source": [
    "for col in data.columns:\n",
    "    print(data[col].value_counts())"
   ]
  },
  {
   "cell_type": "code",
   "execution_count": 4,
   "id": "aaa47f8a",
   "metadata": {},
   "outputs": [
    {
     "data": {
      "text/plain": [
       "DOG        7029\n",
       "CAT        1568\n",
       "BAT         237\n",
       "RACCOON      27\n",
       "OTHER        11\n",
       "HORSE         5\n",
       "FERRET        4\n",
       "RABBIT        3\n",
       "SKUNK         1\n",
       "Name: SpeciesIDDesc, dtype: int64"
      ]
     },
     "execution_count": 4,
     "metadata": {},
     "output_type": "execute_result"
    }
   ],
   "source": [
    "data['SpeciesIDDesc'].value_counts()"
   ]
  },
  {
   "cell_type": "code",
   "execution_count": 5,
   "id": "7d631e60",
   "metadata": {},
   "outputs": [
    {
     "data": {
      "text/plain": [
       "[]"
      ]
     },
     "execution_count": 5,
     "metadata": {},
     "output_type": "execute_result"
    },
    {
     "data": {
      "image/png": "[encoded data removed]",
      "text/plain": [
       "<Figure size 640x480 with 1 Axes>"
      ]
     },
     "metadata": {},
     "output_type": "display_data"
    }
   ],
   "source": [
    "sns.histplot(data['SpeciesIDDesc'])\n",
    "plt.ylabel('Number of Bites', size = 14)\n",
    "plt.xlabel('Animal', size = 14)\n",
    "plt.title('Bite Count by Animal Type', size = 18)\n",
    "plt.xticks(rotation=45, ha='right')\n",
    "plt.plot()"
   ]
  },
  {
   "cell_type": "code",
   "execution_count": 6,
   "id": "4940e3e3",
   "metadata": {
    "scrolled": true
   },
   "outputs": [
    {
     "data": {
      "text/plain": [
       "PIT BULL           1102\n",
       "GERM SHEPHERD       327\n",
       "LABRADOR RETRIV     253\n",
       "BOXER               181\n",
       "CHICHAUHUA          165\n",
       "                   ... \n",
       "RED HEELER            1\n",
       "BRIARD                1\n",
       "CHOCOLATE LAB.        1\n",
       "OLD ENG SHP DOG       1\n",
       "IRISH WOLFHOUND       1\n",
       "Name: BreedIDDesc, Length: 101, dtype: int64"
      ]
     },
     "execution_count": 6,
     "metadata": {},
     "output_type": "execute_result"
    }
   ],
   "source": [
    "data['BreedIDDesc'].value_counts()"
   ]
  },
  {
   "cell_type": "code",
   "execution_count": 7,
   "id": "083a7020",
   "metadata": {},
   "outputs": [],
   "source": [
    "dogs = data[data['SpeciesIDDesc'] == 'DOG']"
   ]
  },
  {
   "cell_type": "code",
   "execution_count": 8,
   "id": "ef9601b0",
   "metadata": {},
   "outputs": [
    {
     "data": {
      "text/plain": [
       "PIT BULL           1101\n",
       "GERM SHEPHERD       327\n",
       "LABRADOR RETRIV     253\n",
       "BOXER               181\n",
       "CHICHAUHUA          165\n",
       "                   ... \n",
       "RED HEELER            1\n",
       "BRIARD                1\n",
       "CHOCOLATE LAB.        1\n",
       "OLD ENG SHP DOG       1\n",
       "IRISH WOLFHOUND       1\n",
       "Name: BreedIDDesc, Length: 101, dtype: int64"
      ]
     },
     "execution_count": 8,
     "metadata": {},
     "output_type": "execute_result"
    }
   ],
   "source": [
    "dogs['BreedIDDesc'].value_counts()"
   ]
  },
  {
   "cell_type": "code",
   "execution_count": 9,
   "id": "4a9d7ed5",
   "metadata": {},
   "outputs": [],
   "source": [
    "v = dogs['BreedIDDesc'].value_counts()\n",
    "common_dogs = dogs[dogs['BreedIDDesc'].isin(v.index[v.gt(30)])]"
   ]
  },
  {
   "cell_type": "code",
   "execution_count": 10,
   "id": "6092cd3e",
   "metadata": {},
   "outputs": [
    {
     "data": {
      "text/plain": [
       "[]"
      ]
     },
     "execution_count": 10,
     "metadata": {},
     "output_type": "execute_result"
    },
    {
     "data": {
      "image/png": "[encoded data removed]",
      "text/plain": [
       "<Figure size 640x480 with 1 Axes>"
      ]
     },
     "metadata": {},
     "output_type": "display_data"
    }
   ],
   "source": [
    "fig, ax = plt.subplots()\n",
    "sns.histplot(common_dogs['BreedIDDesc'])\n",
    "plt.ylabel('Number of Bites', size = 14)\n",
    "plt.xlabel('Breed',size = 14)\n",
    "plt.title('Bite Count by Dog Breed', size = 18)\n",
    "plt.xticks(rotation=45, ha='right')\n",
    "ax.get_xticklabels()[2].set_color(\"red\")\n",
    "plt.plot()"
   ]
  },
  {
   "cell_type": "code",
   "execution_count": 11,
   "id": "03166a7b",
   "metadata": {},
   "outputs": [
    {
     "data": {
      "text/plain": [
       "MALE       3832\n",
       "FEMALE     2016\n",
       "UNKNOWN     629\n",
       "Name: GenderIDDesc, dtype: int64"
      ]
     },
     "execution_count": 11,
     "metadata": {},
     "output_type": "execute_result"
    }
   ],
   "source": [
    "data['GenderIDDesc'].value_counts()"
   ]
  },
  {
   "cell_type": "code",
   "execution_count": 12,
   "id": "ef62c308",
   "metadata": {},
   "outputs": [
    {
     "data": {
      "text/html": [
       "<div>\n",
       "<style scoped>\n",
       "    .dataframe tbody tr th:only-of-type {\n",
       "        vertical-align: middle;\n",
       "    }\n",
       "\n",
       "    .dataframe tbody tr th {\n",
       "        vertical-align: top;\n",
       "    }\n",
       "\n",
       "    .dataframe thead th {\n",
       "        text-align: right;\n",
       "    }\n",
       "</style>\n",
       "<table border=\"1\" class=\"dataframe\">\n",
       "  <thead>\n",
       "    <tr style=\"text-align: right;\">\n",
       "      <th></th>\n",
       "      <th>bite_date</th>\n",
       "      <th>SpeciesIDDesc</th>\n",
       "      <th>BreedIDDesc</th>\n",
       "      <th>GenderIDDesc</th>\n",
       "      <th>color</th>\n",
       "      <th>vaccination_yrs</th>\n",
       "      <th>vaccination_date</th>\n",
       "      <th>victim_zip</th>\n",
       "      <th>AdvIssuedYNDesc</th>\n",
       "      <th>WhereBittenIDDesc</th>\n",
       "      <th>quarantine_date</th>\n",
       "      <th>DispositionIDDesc</th>\n",
       "      <th>head_sent_date</th>\n",
       "      <th>release_date</th>\n",
       "      <th>ResultsIDDesc</th>\n",
       "    </tr>\n",
       "  </thead>\n",
       "  <tbody>\n",
       "    <tr>\n",
       "      <th>1512</th>\n",
       "      <td>2101-02-18 00:00:00</td>\n",
       "      <td>CAT</td>\n",
       "      <td>NaN</td>\n",
       "      <td>FEMALE</td>\n",
       "      <td>BLACK</td>\n",
       "      <td>NaN</td>\n",
       "      <td>NaN</td>\n",
       "      <td>40202</td>\n",
       "      <td>NaN</td>\n",
       "      <td>BODY</td>\n",
       "      <td>2011-02-18 00:00:00</td>\n",
       "      <td>RELEASED</td>\n",
       "      <td>NaN</td>\n",
       "      <td>NaN</td>\n",
       "      <td>NaN</td>\n",
       "    </tr>\n",
       "    <tr>\n",
       "      <th>4490</th>\n",
       "      <td>5013-07-15 00:00:00</td>\n",
       "      <td>DOG</td>\n",
       "      <td>GERM SHEPHERD</td>\n",
       "      <td>FEMALE</td>\n",
       "      <td>WHITE</td>\n",
       "      <td>1.0</td>\n",
       "      <td>2013-08-05 00:00:00</td>\n",
       "      <td>40216</td>\n",
       "      <td>NaN</td>\n",
       "      <td>BODY</td>\n",
       "      <td>NaN</td>\n",
       "      <td>NaN</td>\n",
       "      <td>NaN</td>\n",
       "      <td>NaN</td>\n",
       "      <td>NaN</td>\n",
       "    </tr>\n",
       "    <tr>\n",
       "      <th>5055</th>\n",
       "      <td>2201-01-21 00:00:00</td>\n",
       "      <td>CAT</td>\n",
       "      <td>NaN</td>\n",
       "      <td>MALE</td>\n",
       "      <td>GRAY</td>\n",
       "      <td>NaN</td>\n",
       "      <td>NaN</td>\n",
       "      <td>NaN</td>\n",
       "      <td>NaN</td>\n",
       "      <td>HEAD</td>\n",
       "      <td>NaN</td>\n",
       "      <td>NaN</td>\n",
       "      <td>NaN</td>\n",
       "      <td>NaN</td>\n",
       "      <td>NaN</td>\n",
       "    </tr>\n",
       "    <tr>\n",
       "      <th>6293</th>\n",
       "      <td>2201-02-21 00:00:00</td>\n",
       "      <td>DOG</td>\n",
       "      <td>PIT BULL</td>\n",
       "      <td>MALE</td>\n",
       "      <td>TAN WHITE</td>\n",
       "      <td>1.0</td>\n",
       "      <td>2015-04-21 00:00:00</td>\n",
       "      <td>NaN</td>\n",
       "      <td>NaN</td>\n",
       "      <td>BODY</td>\n",
       "      <td>NaN</td>\n",
       "      <td>NaN</td>\n",
       "      <td>NaN</td>\n",
       "      <td>NaN</td>\n",
       "      <td>NaN</td>\n",
       "    </tr>\n",
       "    <tr>\n",
       "      <th>6505</th>\n",
       "      <td>2201-05-01 00:00:00</td>\n",
       "      <td>DOG</td>\n",
       "      <td>DACHSHUND</td>\n",
       "      <td>MALE</td>\n",
       "      <td>BROWN</td>\n",
       "      <td>1.0</td>\n",
       "      <td>2015-05-19 00:00:00</td>\n",
       "      <td>40229</td>\n",
       "      <td>NO</td>\n",
       "      <td>BODY</td>\n",
       "      <td>NaN</td>\n",
       "      <td>RELEASED</td>\n",
       "      <td>NaN</td>\n",
       "      <td>2015-05-11 00:00:00</td>\n",
       "      <td>NaN</td>\n",
       "    </tr>\n",
       "  </tbody>\n",
       "</table>\n",
       "</div>"
      ],
      "text/plain": [
       "                bite_date SpeciesIDDesc    BreedIDDesc GenderIDDesc  \\\n",
       "1512  2101-02-18 00:00:00           CAT            NaN       FEMALE   \n",
       "4490  5013-07-15 00:00:00           DOG  GERM SHEPHERD       FEMALE   \n",
       "5055  2201-01-21 00:00:00           CAT            NaN         MALE   \n",
       "6293  2201-02-21 00:00:00           DOG       PIT BULL         MALE   \n",
       "6505  2201-05-01 00:00:00           DOG      DACHSHUND         MALE   \n",
       "\n",
       "          color  vaccination_yrs     vaccination_date victim_zip  \\\n",
       "1512      BLACK              NaN                  NaN      40202   \n",
       "4490      WHITE              1.0  2013-08-05 00:00:00      40216   \n",
       "5055       GRAY              NaN                  NaN        NaN   \n",
       "6293  TAN WHITE              1.0  2015-04-21 00:00:00        NaN   \n",
       "6505      BROWN              1.0  2015-05-19 00:00:00      40229   \n",
       "\n",
       "     AdvIssuedYNDesc WhereBittenIDDesc      quarantine_date DispositionIDDesc  \\\n",
       "1512             NaN              BODY  2011-02-18 00:00:00          RELEASED   \n",
       "4490             NaN              BODY                  NaN               NaN   \n",
       "5055             NaN              HEAD                  NaN               NaN   \n",
       "6293             NaN              BODY                  NaN               NaN   \n",
       "6505              NO              BODY                  NaN          RELEASED   \n",
       "\n",
       "     head_sent_date         release_date ResultsIDDesc  \n",
       "1512            NaN                  NaN           NaN  \n",
       "4490            NaN                  NaN           NaN  \n",
       "5055            NaN                  NaN           NaN  \n",
       "6293            NaN                  NaN           NaN  \n",
       "6505            NaN  2015-05-11 00:00:00           NaN  "
      ]
     },
     "execution_count": 12,
     "metadata": {},
     "output_type": "execute_result"
    }
   ],
   "source": [
    "data[data['bite_date'] > '2022']"
   ]
  },
  {
   "cell_type": "code",
   "execution_count": 17,
   "id": "faf231b0",
   "metadata": {},
   "outputs": [],
   "source": [
    "data = data[data['bite_date'] <= '2022']\n",
    "dogs = dogs[dogs['bite_date'] <= '2022']"
   ]
  },
  {
   "cell_type": "code",
   "execution_count": 18,
   "id": "9cc4b46f",
   "metadata": {},
   "outputs": [
    {
     "data": {
      "text/plain": [
       "UNKNOWN     1235\n",
       "NEGATIVE     131\n",
       "POSITIVE       2\n",
       "Name: ResultsIDDesc, dtype: int64"
      ]
     },
     "execution_count": 18,
     "metadata": {},
     "output_type": "execute_result"
    }
   ],
   "source": [
    "data['ResultsIDDesc'].value_counts()"
   ]
  },
  {
   "cell_type": "code",
   "execution_count": 19,
   "id": "a2f4f7ae",
   "metadata": {},
   "outputs": [],
   "source": [
    "data['bite_date'] = pd.to_datetime(data['bite_date'])\n",
    "data['head_sent_date'] = pd.to_datetime(data['head_sent_date'])\n",
    "data['vaccination_date'] = pd.to_datetime(data['vaccination_date'])\n",
    "data['quarantine_date'] = pd.to_datetime(data['quarantine_date'])"
   ]
  },
  {
   "cell_type": "code",
   "execution_count": 20,
   "id": "b6779e83",
   "metadata": {},
   "outputs": [],
   "source": [
    "dogs['bite_date'] = pd.to_datetime(dogs['bite_date'])\n",
    "dogs['head_sent_date'] = pd.to_datetime(dogs['head_sent_date'])\n",
    "dogs['vaccination_date'] = pd.to_datetime(dogs['vaccination_date'])\n",
    "dogs['quarantine_date'] = pd.to_datetime(dogs['quarantine_date'])"
   ]
  },
  {
   "cell_type": "code",
   "execution_count": 21,
   "id": "e844de34",
   "metadata": {},
   "outputs": [],
   "source": [
    "data['bite_to_test'] = data['head_sent_date'] - data['bite_date']\n",
    "dogs['bite_to_test'] = dogs['head_sent_date'] - dogs['bite_date']"
   ]
  },
  {
   "cell_type": "code",
   "execution_count": 22,
   "id": "4c9ae1e1",
   "metadata": {},
   "outputs": [
    {
     "data": {
      "text/plain": [
       "0 days       108\n",
       "1 days        45\n",
       "2 days        25\n",
       "3 days         9\n",
       "4 days         7\n",
       "5 days         7\n",
       "7 days         6\n",
       "6 days         4\n",
       "10 days        3\n",
       "9 days         2\n",
       "-2 days        1\n",
       "-4 days        1\n",
       "1096 days      1\n",
       "369 days       1\n",
       "-5 days        1\n",
       "Name: bite_to_test, dtype: int64"
      ]
     },
     "execution_count": 22,
     "metadata": {},
     "output_type": "execute_result"
    }
   ],
   "source": [
    "data['bite_to_test'].value_counts()"
   ]
  },
  {
   "cell_type": "code",
   "execution_count": 23,
   "id": "0f0e102c",
   "metadata": {},
   "outputs": [],
   "source": [
    "dogs = dogs[dogs['bite_to_test'] >= '0 days']"
   ]
  },
  {
   "cell_type": "code",
   "execution_count": 24,
   "id": "5c26d608",
   "metadata": {},
   "outputs": [],
   "source": [
    "dogs['bite_to_test'] = pd.to_numeric(dogs['bite_to_test'].dt.days, downcast='integer')"
   ]
  },
  {
   "cell_type": "code",
   "execution_count": 25,
   "id": "df28f2fb",
   "metadata": {},
   "outputs": [
    {
     "data": {
      "text/plain": [
       "BreedIDDesc\n",
       "AAUST. TERR.          0.000000\n",
       "AMER. BULL DOG        3.000000\n",
       "BEAGLE                3.000000\n",
       "BORDER COLLIE         1.000000\n",
       "BOXER                 0.000000\n",
       "BULL DOG              0.000000\n",
       "CHOW CHOW             6.000000\n",
       "DACHSHUND             0.000000\n",
       "DALMATIAN             7.000000\n",
       "GERM SHEPHERD         2.000000\n",
       "GOLD RETRIEVER        5.000000\n",
       "GREAT PYRENEESE       2.000000\n",
       "HUSKY                 0.000000\n",
       "LABRADOR RETRIV       4.000000\n",
       "MASTIF                7.000000\n",
       "PIT BULL             82.444444\n",
       "SHIH TZU              2.000000\n",
       "YORKSHIRE TERRIER     0.000000\n",
       "Name: bite_to_test, dtype: float64"
      ]
     },
     "execution_count": 25,
     "metadata": {},
     "output_type": "execute_result"
    }
   ],
   "source": [
    "dogs.groupby(['BreedIDDesc']).mean()['bite_to_test']"
   ]
  },
  {
   "cell_type": "code",
   "execution_count": 26,
   "id": "0f6d451c",
   "metadata": {},
   "outputs": [
    {
     "data": {
      "text/plain": [
       "17.221052631578946"
      ]
     },
     "execution_count": 26,
     "metadata": {},
     "output_type": "execute_result"
    }
   ],
   "source": [
    "dogs['bite_to_test'].mean()"
   ]
  },
  {
   "cell_type": "code",
   "execution_count": 27,
   "id": "5ac3a7da",
   "metadata": {},
   "outputs": [
    {
     "data": {
      "text/plain": [
       "PIT BULL           1081\n",
       "GERM SHEPHERD       323\n",
       "LABRADOR RETRIV     248\n",
       "BOXER               181\n",
       "CHICHAUHUA          164\n",
       "                   ... \n",
       "BESINJI               1\n",
       "BEARDED COLLIE        1\n",
       "STAN POODLE           1\n",
       "AMER FOX HOUND        1\n",
       "IRISH WOLFHOUND       1\n",
       "Name: BreedIDDesc, Length: 101, dtype: int64"
      ]
     },
     "execution_count": 27,
     "metadata": {},
     "output_type": "execute_result"
    }
   ],
   "source": [
    "data['BreedIDDesc'].value_counts()"
   ]
  },
  {
   "cell_type": "code",
   "execution_count": 28,
   "id": "bd5a2876",
   "metadata": {},
   "outputs": [
    {
     "data": {
      "image/png": "[encoded data removed]",
      "text/plain": [
       "<Figure size 640x480 with 1 Axes>"
      ]
     },
     "metadata": {},
     "output_type": "display_data"
    }
   ],
   "source": [
    "sns.scatterplot(dogs, x=dogs['BreedIDDesc'].value_counts(), y=dogs.groupby(['BreedIDDesc']).mean()['bite_to_test'])\n",
    "for i, breed in enumerate (dogs['BreedIDDesc'].value_counts()):\n",
    "    plt.annotate(breed, (dogs['BreedIDDesc'].value_counts()[i]+0.7, dogs.groupby(['BreedIDDesc']).mean()['bite_to_test'][i]+0.5) )\n",
    "\n",
    "plt.xlabel('Bite Count', size = 14)\n",
    "plt.ylabel('Days From Bite to Test', size = 14)\n",
    "plt.title('Bite Count vs Time to Test by Breed', size = 18)\n",
    "plt.show()"
   ]
  },
  {
   "cell_type": "code",
   "execution_count": 31,
   "id": "594851e8",
   "metadata": {},
   "outputs": [
    {
     "data": {
      "text/plain": [
       "BODY       6191\n",
       "HEAD       1236\n",
       "UNKNOWN     926\n",
       "Name: WhereBittenIDDesc, dtype: int64"
      ]
     },
     "execution_count": 31,
     "metadata": {},
     "output_type": "execute_result"
    }
   ],
   "source": [
    "data['WhereBittenIDDesc'].value_counts()"
   ]
  },
  {
   "cell_type": "code",
   "execution_count": null,
   "id": "83f9664c",
   "metadata": {},
   "outputs": [],
   "source": []
  }
 ],
 "metadata": {
  "kernelspec": {
   "display_name": "Python 3 (ipykernel)",
   "language": "python",
   "name": "python3"
  },
  "language_info": {
   "codemirror_mode": {
    "name": "ipython",
    "version": 3
   },
   "file_extension": ".py",
   "mimetype": "text/x-python",
   "name": "python",
   "nbconvert_exporter": "python",
   "pygments_lexer": "ipython3",
   "version": "3.9.15"
  }
 },
 "nbformat": 4,
 "nbformat_minor": 5
}
